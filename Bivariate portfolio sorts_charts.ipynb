{
 "cells": [
  {
   "cell_type": "markdown",
   "id": "47efca25",
   "metadata": {},
   "source": [
    "# Bivariate portfolio sorts\n",
    "We extend the univariate portfolio analysis of **Univariate Portfolio Sorts** to **Bivariate sorts**, which means we assign stocks to portfolios based on two characteristics. Bivariate sorts are regularly used in the academic asset pricing literature and are the basis for factors in the Fama-French three-factor model. We form portfolios on firm size and the book-to-market ratio. To calculate book-to-market ratios, accounting data is required, which necessitates additional steps during portfolio formation.\n",
    "In the end, we demonstrate how to form portfolios on two sorting variables using so-called independent and dependent portfolio sorts."
   ]
  },
  {
   "cell_type": "code",
   "execution_count": 1,
   "id": "4794630f",
   "metadata": {},
   "outputs": [
    {
     "name": "stdout",
     "output_type": "stream",
     "text": [
      "Requirement already satisfied: pandas in c:\\users\\rober\\anaconda3\\lib\\site-packages (1.5.3)\n",
      "Requirement already satisfied: python-dateutil>=2.8.1 in c:\\users\\rober\\anaconda3\\lib\\site-packages (from pandas) (2.8.2)\n",
      "Requirement already satisfied: pytz>=2020.1 in c:\\users\\rober\\anaconda3\\lib\\site-packages (from pandas) (2024.1)\n",
      "Requirement already satisfied: numpy>=1.20.3 in c:\\users\\rober\\anaconda3\\lib\\site-packages (from pandas) (1.24.4)\n",
      "Requirement already satisfied: six>=1.5 in c:\\users\\rober\\anaconda3\\lib\\site-packages (from python-dateutil>=2.8.1->pandas) (1.16.0)\n"
     ]
    },
    {
     "name": "stderr",
     "output_type": "stream",
     "text": [
      "WARNING: Ignoring invalid distribution -atplotlib (c:\\users\\rober\\anaconda3\\lib\\site-packages)\n",
      "WARNING: Ignoring invalid distribution -atplotlib (c:\\users\\rober\\anaconda3\\lib\\site-packages)\n",
      "DEPRECATION: pyodbc 4.0.0-unsupported has a non-standard version number. pip 24.1 will enforce this behaviour change. A possible replacement is to upgrade to a newer version of pyodbc or contact the author to suggest that they release a version with a conforming version number. Discussion can be found at https://github.com/pypa/pip/issues/12063\n"
     ]
    },
    {
     "name": "stdout",
     "output_type": "stream",
     "text": [
      "Requirement already satisfied: pandas_datareader in c:\\users\\rober\\anaconda3\\lib\\site-packages (0.10.0)\n",
      "Requirement already satisfied: lxml in c:\\users\\rober\\anaconda3\\lib\\site-packages (from pandas_datareader) (5.1.0)\n",
      "Requirement already satisfied: pandas>=0.23 in c:\\users\\rober\\anaconda3\\lib\\site-packages (from pandas_datareader) (1.5.3)\n",
      "Requirement already satisfied: requests>=2.19.0 in c:\\users\\rober\\anaconda3\\lib\\site-packages (from pandas_datareader) (2.31.0)\n",
      "Requirement already satisfied: python-dateutil>=2.8.1 in c:\\users\\rober\\anaconda3\\lib\\site-packages (from pandas>=0.23->pandas_datareader) (2.8.2)\n",
      "Requirement already satisfied: pytz>=2020.1 in c:\\users\\rober\\anaconda3\\lib\\site-packages (from pandas>=0.23->pandas_datareader) (2024.1)\n",
      "Requirement already satisfied: numpy>=1.20.3 in c:\\users\\rober\\anaconda3\\lib\\site-packages (from pandas>=0.23->pandas_datareader) (1.24.4)\n",
      "Requirement already satisfied: charset-normalizer<4,>=2 in c:\\users\\rober\\anaconda3\\lib\\site-packages (from requests>=2.19.0->pandas_datareader) (2.0.4)\n",
      "Requirement already satisfied: idna<4,>=2.5 in c:\\users\\rober\\anaconda3\\lib\\site-packages (from requests>=2.19.0->pandas_datareader) (3.2)\n",
      "Requirement already satisfied: urllib3<3,>=1.21.1 in c:\\users\\rober\\anaconda3\\lib\\site-packages (from requests>=2.19.0->pandas_datareader) (1.26.7)\n",
      "Requirement already satisfied: certifi>=2017.4.17 in c:\\users\\rober\\anaconda3\\lib\\site-packages (from requests>=2.19.0->pandas_datareader) (2021.10.8)\n",
      "Requirement already satisfied: six>=1.5 in c:\\users\\rober\\anaconda3\\lib\\site-packages (from python-dateutil>=2.8.1->pandas>=0.23->pandas_datareader) (1.16.0)\n"
     ]
    },
    {
     "name": "stderr",
     "output_type": "stream",
     "text": [
      "WARNING: Ignoring invalid distribution -atplotlib (c:\\users\\rober\\anaconda3\\lib\\site-packages)\n",
      "WARNING: Ignoring invalid distribution -atplotlib (c:\\users\\rober\\anaconda3\\lib\\site-packages)\n",
      "DEPRECATION: pyodbc 4.0.0-unsupported has a non-standard version number. pip 24.1 will enforce this behaviour change. A possible replacement is to upgrade to a newer version of pyodbc or contact the author to suggest that they release a version with a conforming version number. Discussion can be found at https://github.com/pypa/pip/issues/12063\n"
     ]
    },
    {
     "name": "stdout",
     "output_type": "stream",
     "text": [
      "Requirement already satisfied: python-dotenv in c:\\users\\rober\\anaconda3\\lib\\site-packages (1.0.1)\n"
     ]
    },
    {
     "name": "stderr",
     "output_type": "stream",
     "text": [
      "WARNING: Ignoring invalid distribution -atplotlib (c:\\users\\rober\\anaconda3\\lib\\site-packages)\n",
      "WARNING: Ignoring invalid distribution -atplotlib (c:\\users\\rober\\anaconda3\\lib\\site-packages)\n",
      "DEPRECATION: pyodbc 4.0.0-unsupported has a non-standard version number. pip 24.1 will enforce this behaviour change. A possible replacement is to upgrade to a newer version of pyodbc or contact the author to suggest that they release a version with a conforming version number. Discussion can be found at https://github.com/pypa/pip/issues/12063\n"
     ]
    },
    {
     "name": "stdout",
     "output_type": "stream",
     "text": [
      "Requirement already satisfied: psycopg2-binary in c:\\users\\rober\\anaconda3\\lib\\site-packages (2.9.9)\n"
     ]
    },
    {
     "name": "stderr",
     "output_type": "stream",
     "text": [
      "WARNING: Ignoring invalid distribution -atplotlib (c:\\users\\rober\\anaconda3\\lib\\site-packages)\n",
      "WARNING: Ignoring invalid distribution -atplotlib (c:\\users\\rober\\anaconda3\\lib\\site-packages)\n",
      "DEPRECATION: pyodbc 4.0.0-unsupported has a non-standard version number. pip 24.1 will enforce this behaviour change. A possible replacement is to upgrade to a newer version of pyodbc or contact the author to suggest that they release a version with a conforming version number. Discussion can be found at https://github.com/pypa/pip/issues/12063\n"
     ]
    }
   ],
   "source": [
    "#Install the necessary packages\n",
    "!pip install pandas \n",
    "!pip install pandas_datareader\n",
    "!pip install python-dotenv\n",
    "!pip install psycopg2-binary"
   ]
  },
  {
   "cell_type": "code",
   "execution_count": 2,
   "id": "260eb482",
   "metadata": {},
   "outputs": [],
   "source": [
    "#Import the necessary modules\n",
    "\n",
    "from sqlalchemy import create_engine\n",
    "from plotnine import *\n",
    "from regtabletotext import prettify_result\n",
    "from datetime import datetime\n",
    "import numpy as np\n",
    "import sqlite3\n",
    "import statsmodels.api as sm\n",
    "import pandas as pd\n",
    "import matplotlib.pyplot as plt\n",
    "from mpl_toolkits.mplot3d import Axes3D"
   ]
  },
  {
   "cell_type": "markdown",
   "id": "595108a9",
   "metadata": {},
   "source": [
    "## Data preparation\n",
    "First, we load the necessary data from our SQLite database introduced in Accessing and Managing Financial Data and WRDS, CRSP, and Compustat. We conduct portfolio sorts based on the CRSP sample. \n",
    "\n",
    "***!Important! Make sure to download from BlackBoard the file FamaFrench.sqlite and store it in your local drive ***"
   ]
  },
  {
   "cell_type": "code",
   "execution_count": 3,
   "id": "602e8cf0",
   "metadata": {},
   "outputs": [
    {
     "name": "stdout",
     "output_type": "stream",
     "text": [
      "Please specify the local path where you stored the db FamaFrench.sqlite: C:\\Users\\rober\\Downloads\n"
     ]
    }
   ],
   "source": [
    "your_path = input(\"Please specify the local path where you stored the db FamaFrench.sqlite: \") \n",
    "database = sqlite3.connect(database= f\"{your_path}\\FamaFrench5000.sqlite\") \n",
    "\n",
    "crsp_monthly = (pd.read_sql_query(\n",
    "    sql=(\"SELECT permno, gvkey, month, ret_excess, mktcap,\" \n",
    "         \"mktcap_lag, exchange FROM crsp_monthly\"),\n",
    "    con=database,\n",
    "    parse_dates={\"month\"})\n",
    "  .dropna()\n",
    ")"
   ]
  },
  {
   "cell_type": "markdown",
   "id": "9535f6ec",
   "metadata": {},
   "source": [
    "Further, we utilize accounting data. We only need book equity data in this application, which we select from our database. Additionally, we convert the variable datadate to its monthly value, as we only consider monthly returns here and do not need to account for the exact date."
   ]
  },
  {
   "cell_type": "code",
   "execution_count": 4,
   "id": "b0126e68",
   "metadata": {},
   "outputs": [],
   "source": [
    "book_equity = (pd.read_sql_query(\n",
    "    sql=\"SELECT gvkey, datadate, be FROM compustat\",\n",
    "    con=database, \n",
    "    parse_dates={\"datadate\"})\n",
    "  .dropna()\n",
    "  .assign(\n",
    "    month=lambda x: (\n",
    "      pd.to_datetime(x[\"datadate\"]).dt.to_period(\"M\").dt.to_timestamp()\n",
    "    )\n",
    "  )\n",
    ")"
   ]
  },
  {
   "cell_type": "markdown",
   "id": "3ae35d48",
   "metadata": {},
   "source": [
    "## Book-to-Market Ratio\n",
    "A fundamental problem in handling accounting data is the *look-ahead bias*; we must not include data in forming a portfolio that was not available knowledge at the time. Of course, researchers have more information when looking into the past than agents actually had at that moment. However, abnormal excess returns from a trading strategy should not rely on an information advantage because the differential cannot be the result of informed agents’ trades. Hence, we have to lag accounting information.\n",
    "\n",
    "We continue to lag market capitalization and firm size by one month. Then, we compute the book-to-market ratio, which relates a firm’s book equity to its market equity. Firms with high (low) book-to-market ratio are called value (growth) firms. After matching the accounting and market equity information from the same month, we lag book-to-market by six months. This is a sufficiently conservative approach because accounting information is usually released well before six months pass.\n",
    "\n",
    "Having both variables, i.e., firm size lagged by one month and book-to-market lagged by six months, we merge these sorting variables to our returns using the *sorting_date*-column created for this purpose. The final step in our data preparation deals with differences in the frequency of our variables. Returns and firm size are recorded monthly. Yet, the accounting information is only released on an annual basis. Hence, we only match book-to-market to one month per year and have eleven empty observations. To solve this frequency issue, we carry the latest book-to-market ratio of each firm to the subsequent months, i.e., we fill the missing observations with the most current report. This is done via the *fillna(method=\"ffill\")-function* after sorting by date and firm (which we identify by permno and gvkey) and on a firm basis (which we do by .groupby() as usual). We filter out all observations with accounting data that is older than a year. As the last step, we remove all rows with missing entries because the returns cannot be matched to any annual report."
   ]
  },
  {
   "cell_type": "code",
   "execution_count": 5,
   "id": "0bfd1205",
   "metadata": {},
   "outputs": [
    {
     "name": "stderr",
     "output_type": "stream",
     "text": [
      "C:\\Users\\rober\\AppData\\Local\\Temp/ipykernel_73032/4024672676.py:28: FutureWarning: Not prepending group keys to the result index of transform-like apply. In the future, the group keys will be included in the index, regardless of whether the applied function returns a like-indexed object.\n",
      "To preserve the previous behavior, use\n",
      "\n",
      "\t>>> .groupby(..., group_keys=False)\n",
      "\n",
      "To adopt the future behavior and silence this warning, use \n",
      "\n",
      "\t>>> .groupby(..., group_keys=True)\n"
     ]
    }
   ],
   "source": [
    "me = (crsp_monthly\n",
    "  .assign(sorting_date=lambda x: x[\"month\"]+pd.DateOffset(months=1))\n",
    "  .rename(columns={\"mktcap\": \"me\"})\n",
    "  .get([\"permno\", \"sorting_date\", \"me\"])\n",
    ")\n",
    "\n",
    "bm = (book_equity\n",
    "  .merge(crsp_monthly, how=\"inner\", on=[\"gvkey\", \"month\"])\n",
    "  .assign(bm=lambda x: x[\"be\"]/x[\"mktcap\"],\n",
    "          sorting_date=lambda x: x[\"month\"]+pd.DateOffset(months=6))\n",
    "  .assign(comp_date=lambda x: x[\"sorting_date\"])\n",
    "  .get([\"permno\", \"gvkey\", \"sorting_date\", \"comp_date\", \"bm\"])\n",
    ")\n",
    "\n",
    "data_for_sorts = (crsp_monthly\n",
    "  .merge(bm, \n",
    "         how=\"left\", \n",
    "         left_on=[\"permno\", \"gvkey\", \"month\"], \n",
    "         right_on=[\"permno\", \"gvkey\", \"sorting_date\"])\n",
    "  .merge(me, \n",
    "         how=\"left\", \n",
    "         left_on=[\"permno\", \"month\"], \n",
    "         right_on=[\"permno\", \"sorting_date\"])\n",
    "  .get([\"permno\", \"gvkey\", \"month\", \"ret_excess\", \n",
    "        \"mktcap_lag\", \"me\", \"bm\", \"exchange\", \"comp_date\"])\n",
    ")\n",
    "\n",
    "data_for_sorts = (data_for_sorts\n",
    "  .sort_values(by=[\"permno\", \"gvkey\", \"month\"])\n",
    "  .groupby([\"permno\", \"gvkey\"])\n",
    "  .apply(lambda x: x.assign(\n",
    "      bm=x[\"bm\"].fillna(method=\"ffill\"), \n",
    "      comp_date=x[\"comp_date\"].fillna(method=\"ffill\")\n",
    "    )\n",
    "  )\n",
    "  .reset_index(drop=True)\n",
    "  .assign(threshold_date = lambda x: (x[\"month\"]-pd.DateOffset(months=12)))\n",
    "  .query(\"comp_date > threshold_date\")\n",
    "  .drop(columns=[\"comp_date\", \"threshold_date\"])\n",
    "  .dropna()\n",
    ")"
   ]
  },
  {
   "cell_type": "markdown",
   "id": "b81d56d8",
   "metadata": {},
   "source": [
    "The last step of preparation for the portfolio sorts is the computation of breakpoints. We continue to use the same function of univariate portfolio sorting, allowing for the specification of exchanges to be used for the breakpoints. Additionally, we reintroduce the argument *sorting_variable* into the function for defining different sorting variables."
   ]
  },
  {
   "cell_type": "code",
   "execution_count": 6,
   "id": "985042ea",
   "metadata": {},
   "outputs": [],
   "source": [
    "def assign_portfolio(data, exchanges, sorting_variable, n_portfolios):\n",
    "    \"\"\"Assign portfolio for a given sorting variable.\"\"\"\n",
    "    \n",
    "    breakpoints = (data\n",
    "      .query(f\"exchange in {exchanges}\")\n",
    "      .get(sorting_variable)\n",
    "      .quantile(np.linspace(0, 1, num=n_portfolios+1), \n",
    "                interpolation=\"linear\")\n",
    "      .drop_duplicates()\n",
    "    )\n",
    "    breakpoints.iloc[0] = -np.Inf\n",
    "    breakpoints.iloc[breakpoints.size-1] = np.Inf\n",
    "    \n",
    "    assigned_portfolios = pd.cut(\n",
    "      data[sorting_variable],\n",
    "      bins=breakpoints,\n",
    "      labels=range(1, breakpoints.size),\n",
    "      include_lowest=True,\n",
    "      right=False\n",
    "    )\n",
    "    \n",
    "    return assigned_portfolios"
   ]
  },
  {
   "cell_type": "markdown",
   "id": "42986d12",
   "metadata": {},
   "source": [
    "After these data preparation steps, we present bivariate portfolio sorts on an independent and dependent basis."
   ]
  },
  {
   "cell_type": "code",
   "execution_count": null,
   "id": "5c149e29",
   "metadata": {},
   "outputs": [],
   "source": []
  }
 ],
 "metadata": {
  "kernelspec": {
   "display_name": "Python 3 (ipykernel)",
   "language": "python",
   "name": "python3"
  },
  "language_info": {
   "codemirror_mode": {
    "name": "ipython",
    "version": 3
   },
   "file_extension": ".py",
   "mimetype": "text/x-python",
   "name": "python",
   "nbconvert_exporter": "python",
   "pygments_lexer": "ipython3",
   "version": "3.9.7"
  }
 },
 "nbformat": 4,
 "nbformat_minor": 5
}
